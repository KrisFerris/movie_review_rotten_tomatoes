{
 "cells": [
  {
   "cell_type": "code",
   "execution_count": 39,
   "id": "b5ddbed3",
   "metadata": {},
   "outputs": [
    {
     "name": "stdout",
     "output_type": "stream",
     "text": [
      "As of 2020, the top 5 movies of all time based on the number of people who watched and the audience's rating are, Gladiator, Finding Nemo, Pirates of the Caribbean: The Curse of the Black Pearl, The Lord of the Rings: The Return of the King, Braveheart.\n"
     ]
    }
   ],
   "source": [
    "import polars as pl\n",
    "\n",
    "def get_top_movies(csv_file, top_n=20, final_top_n=5):\n",
    "\n",
    "    # Load data from CSV\n",
    "    df = pl.read_csv(csv_file)\n",
    "\n",
    "    # Index the audience_count to movies with a value of 30,000,000 or higher\n",
    "    indexed_movies = df.filter(pl.col(\"audience_count\") >= 30000000)\n",
    "\n",
    "    # Sort these top movies by audience_rating in descending order\n",
    "    sorted_top_movies = indexed_movies.sort(\"audience_rating\", descending=True)\n",
    "\n",
    "    # Get the top movies after sorting by audience_rating\n",
    "    final_top_movies = sorted_top_movies.slice(0, final_top_n)\n",
    "\n",
    "    # Convert the movie titles to a list\n",
    "    final_top_movie_titles = final_top_movies[\"movie_title\"].to_list()\n",
    "\n",
    "    # Print the names of the top movies\n",
    "    print(f\"As of 2020, the top {final_top_n} movies of all time, based on the number of people who watched and the audience's rating are, {', '.join(final_top_movie_titles)}.\")\n",
    "\n",
    "# Call the function\n",
    "get_top_movies(\"rotten_tomatoes_movies.csv\")\n"
   ]
  },
  {
   "cell_type": "code",
   "execution_count": null,
   "id": "4fa810be",
   "metadata": {},
   "outputs": [],
   "source": []
  }
 ],
 "metadata": {
  "kernelspec": {
   "display_name": "Python 3 (ipykernel)",
   "language": "python",
   "name": "python3"
  },
  "language_info": {
   "codemirror_mode": {
    "name": "ipython",
    "version": 3
   },
   "file_extension": ".py",
   "mimetype": "text/x-python",
   "name": "python",
   "nbconvert_exporter": "python",
   "pygments_lexer": "ipython3",
   "version": "3.9.16"
  }
 },
 "nbformat": 4,
 "nbformat_minor": 5
}
